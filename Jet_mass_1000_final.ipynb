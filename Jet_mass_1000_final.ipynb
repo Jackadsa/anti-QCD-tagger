{
 "cells": [
  {
   "cell_type": "markdown",
   "metadata": {},
   "source": [
    "# Making a decorrelated anti-QCD tagger with PCA rescaling"
   ]
  },
  {
   "cell_type": "markdown",
   "metadata": {},
   "source": [
    "This code shows how to import data, bin it in jet mass, do PCA preprocessing, and show jet mass distributions after tagger selection"
   ]
  },
  {
   "cell_type": "markdown",
   "metadata": {},
   "source": [
    "## Part 0: Initialize and define the preprocessing classes"
   ]
  },
  {
   "cell_type": "markdown",
   "metadata": {},
   "source": [
    "An instance of the class mysplit_n_scale will take as it's input a list of events (M, {tau_N^beta}), bins the events in mass, and within each bin performs the PCA standardisation. The output is a binned list of tau^(PCA) data. It requires a binning for initialisation, for our paper we used standard_binboundaries defined below, chosen to have good statistics in each bin.\n",
    "\n",
    "There as also myscaler, which does unbinned std rescaling."
   ]
  },
  {
   "cell_type": "code",
   "execution_count": 1,
   "metadata": {
    "collapsed": true
   },
   "outputs": [],
   "source": [
    "import numpy as np\n",
    "import numpy.random as rand\n",
    "import math\n",
    "import matplotlib.pyplot as plt\n",
    "from sklearn import preprocessing\n",
    "from sklearn.decomposition import PCA\n",
    "\n",
    "#This is the binning we used in the paper\n",
    "standard_binboundaries = np.concatenate((np.arange(0,25,25),\n",
    "                                         np.arange(25,35,10),\n",
    "                                         np.arange(35,215,5),\n",
    "                                         np.arange(215,275,10),\n",
    "                                         np.arange(275,300,25),\n",
    "                                         np.arange(300,450,50),\n",
    "                                         np.arange(450,560,100)))\n",
    "\n",
    "#This class does std rescaling\n",
    "class myscaler:\n",
    "    \n",
    "    def __init__(self, mybgdata):\n",
    "        self.scale1 = preprocessing.StandardScaler().fit(mybgdata)\n",
    "        tempdata = self.scale1.transform(mybgdata)\n",
    "        self.mypca = PCA().fit(tempdata)\n",
    "        tempdata = self.mypca.transform(tempdata)\n",
    "        self.scale2 = preprocessing.StandardScaler().fit(tempdata)\n",
    "        \n",
    "    def transform(self,inputdata):\n",
    "        return np.dot(self.scale2.transform(self.mypca.transform(self.scale1.transform(inputdata))),\n",
    "                      self.mypca.components_)\n",
    "\n",
    "#This class does PCA rescaling\n",
    "class mysplit_n_scale:\n",
    "    \n",
    "    def __init__(self, mybgdata, mybinboundaries = standard_binboundaries):\n",
    "        self.binboundaries = mybinboundaries\n",
    "        bgdatabinned = []\n",
    "        for i in range(0,len(mybinboundaries)-1):\n",
    "            bgdatabinned.append(\n",
    "                np.array([myrow[1:] for myrow in mybgdata if (myrow[0] < mybinboundaries[i+1] and myrow[0] >= mybinboundaries[i])])\n",
    "            )\n",
    "        \n",
    "        self.scale1 = [preprocessing.StandardScaler().fit(databin) for databin in bgdatabinned]\n",
    "        tempdata = [self.scale1[i].transform(databin) for i, databin in enumerate(bgdatabinned)]\n",
    "        self.mypca = [PCA().fit(tempdatarow) for tempdatarow in tempdata]\n",
    "        newtempdata = [self.mypca[i].transform(tempdatarow) for i, tempdatarow in enumerate(tempdata)]\n",
    "        self.scale2 = [preprocessing.StandardScaler().fit(tempdatarow) for tempdatarow in newtempdata]\n",
    "        \n",
    "    def transform(self,inputdata):\n",
    "        inputdatabinned = []\n",
    "        for i in range(0,len(self.binboundaries)-1):\n",
    "            inputdatabinned.append(\n",
    "                np.array([myrow[1:] for myrow in inputdata\n",
    "                         if (myrow[0] < self.binboundaries[i+1] and myrow[0] >= self.binboundaries[i])])\n",
    "            )\n",
    "        scaleddatabinned = [np.dot(self.scale2[i].transform(self.mypca[i].transform(self.scale1[i].transform(inputdatarow))),\n",
    "                                    self.mypca[i].components_)\n",
    "                            if len(inputdatarow) > 0 else []\n",
    "                            for i, inputdatarow in enumerate(inputdatabinned)]\n",
    "        return scaleddatabinned"
   ]
  },
  {
   "cell_type": "markdown",
   "metadata": {},
   "source": [
    "## Part 1: Load and process QCD data and signal training data"
   ]
  },
  {
   "cell_type": "markdown",
   "metadata": {},
   "source": [
    "The QCD data is located in ./no-mass-cut-data/Zg-PT1000.all.dat and ./no-mass-cut-data/Zq-PT1000.all.dat. It was generated as p p > Z q/g, Z > nu nu. The label PT1000 means the jet was selected with cut pT > 1000 GeV.\n",
    "\n",
    "We arbitrarily chose to use a 50/50 mix of quark and gluon data.\n",
    "\n",
    "The format of the data files is as follows. Each row is one jet (one event). The first column is (ungroomed) jet mass, the rest of the columns are tau_N^beta values for the jet. The tau_N^beta basis was taken from [arXiv:1704.08249] (Larkoski, Data, 'How much information is in a jet?'. The ordering is:\n",
    "\n",
    "(M_J, tau_1^1, tau_2^1, tau_3^1, tau_4^1, tau_5^1, tau_6^1, tau_1^2, tau_2^2, tau_3^2, tau_4^2, tau_5^2, tau_6^2, tau_1^0.5, tau_2^0.5, tau_3^0.5, tau_4^0.5, tau_5^0.5)"
   ]
  },
  {
   "cell_type": "code",
   "execution_count": 2,
   "metadata": {
    "collapsed": true
   },
   "outputs": [],
   "source": [
    "#Load data\n",
    "data_prefix = './no-mass-cut-data/'\n",
    "bg_nameg = 'Zg-PT1000'\n",
    "bg_nameq = 'Zq-PT1000'\n",
    "\n",
    "bgdatag = np.loadtxt(data_prefix + bg_nameg + '.all.dat')\n",
    "bgdataq = np.loadtxt(data_prefix + bg_nameq + '.all.dat')\n",
    "\n",
    "#Take a 50/50 mix of quark and gluon data\n",
    "minlength = min(len(bgdatag),len(bgdataq))\n",
    "bgdata = np.append(bgdatag[:minlength+1],bgdataq[:minlength+1],axis=0)\n",
    "#Randomize ordering\n",
    "rand.shuffle(bgdata)"
   ]
  },
  {
   "cell_type": "markdown",
   "metadata": {},
   "source": [
    "### Initialize an instance of the PCA preprocessor class"
   ]
  },
  {
   "cell_type": "code",
   "execution_count": 3,
   "metadata": {
    "collapsed": true
   },
   "outputs": [],
   "source": [
    "#Initialize the PCA preprocessor\n",
    "preprocessor = mysplit_n_scale(bgdata)\n",
    "#PCA preprocess data. This results in a binned dataset\n",
    "bgdatabinned = preprocessor.transform(bgdata)"
   ]
  },
  {
   "cell_type": "markdown",
   "metadata": {},
   "source": [
    "Here we just get the bin boundaries, centers, widths, etc."
   ]
  },
  {
   "cell_type": "code",
   "execution_count": 4,
   "metadata": {
    "scrolled": true
   },
   "outputs": [
    {
     "name": "stdout",
     "output_type": "stream",
     "text": [
      "[(0, 0), (1, 25), (2, 35), (3, 40), (4, 45), (5, 50), (6, 55), (7, 60), (8, 65), (9, 70), (10, 75), (11, 80), (12, 85), (13, 90), (14, 95), (15, 100), (16, 105), (17, 110), (18, 115), (19, 120), (20, 125), (21, 130), (22, 135), (23, 140), (24, 145), (25, 150), (26, 155), (27, 160), (28, 165), (29, 170), (30, 175), (31, 180), (32, 185), (33, 190), (34, 195), (35, 200), (36, 205), (37, 210), (38, 215), (39, 225), (40, 235), (41, 245), (42, 255), (43, 265), (44, 275), (45, 300), (46, 350), (47, 400), (48, 450), (49, 550)]\n",
      "[(0, 12.5), (1, 30.0), (2, 37.5), (3, 42.5), (4, 47.5), (5, 52.5), (6, 57.5), (7, 62.5), (8, 67.5), (9, 72.5), (10, 77.5), (11, 82.5), (12, 87.5), (13, 92.5), (14, 97.5), (15, 102.5), (16, 107.5), (17, 112.5), (18, 117.5), (19, 122.5), (20, 127.5), (21, 132.5), (22, 137.5), (23, 142.5), (24, 147.5), (25, 152.5), (26, 157.5), (27, 162.5), (28, 167.5), (29, 172.5), (30, 177.5), (31, 182.5), (32, 187.5), (33, 192.5), (34, 197.5), (35, 202.5), (36, 207.5), (37, 212.5), (38, 220.0), (39, 230.0), (40, 240.0), (41, 250.0), (42, 260.0), (43, 270.0), (44, 287.5), (45, 325.0), (46, 375.0), (47, 425.0), (48, 500.0)]\n",
      "[(0, 5257), (1, 18242), (2, 16893), (3, 22546), (4, 28243), (5, 32953), (6, 37338), (7, 40342), (8, 42921), (9, 43725), (10, 44191), (11, 44114), (12, 43075), (13, 42304), (14, 40797), (15, 39385), (16, 37893), (17, 36325), (18, 34573), (19, 33261), (20, 31299), (21, 30342), (22, 28371), (23, 27009), (24, 26032), (25, 24623), (26, 23415), (27, 22341), (28, 21414), (29, 20303), (30, 19231), (31, 18405), (32, 17371), (33, 16874), (34, 15949), (35, 15319), (36, 14625), (37, 13792), (38, 26170), (39, 23869), (40, 21531), (41, 19604), (42, 17894), (43, 16318), (44, 35434), (45, 50067), (46, 31452), (47, 18701), (48, 15195)]\n"
     ]
    }
   ],
   "source": [
    "binboundaries = standard_binboundaries\n",
    "bincenters = [0.5*(binboundaries[i+1] + binboundaries[i]) for i in range(0,len(binboundaries)-1)]\n",
    "binwidths = [binboundaries[i+1] - binboundaries[i] for i in range(0,len(binboundaries)-1)]\n",
    "bincontents = [len(myrow) for myrow in bgdatabinned]\n",
    "bindensities = [bincontents[i] / binwidths[i] for i in range(0,len(binwidths))]\n",
    "print(list(enumerate(binboundaries)))\n",
    "print(list(enumerate(bincenters)))\n",
    "print(list(enumerate(bincontents)))"
   ]
  },
  {
   "cell_type": "markdown",
   "metadata": {},
   "source": [
    "### Plot raw QCD jet mass distribution"
   ]
  },
  {
   "cell_type": "code",
   "execution_count": 5,
   "metadata": {},
   "outputs": [
    {
     "data": {
      "image/png": "[encoded data removed]",
      "text/plain": [
       "<matplotlib.figure.Figure at 0x7fa4e6c00748>"
      ]
     },
     "metadata": {},
     "output_type": "display_data"
    }
   ],
   "source": [
    "axislabelsize = 18\n",
    "\n",
    "yerr = np.divide(1,np.sqrt(np.array(bincontents)))\n",
    "xerr = np.multiply(0.5,np.array(binwidths))\n",
    "plt.figure(figsize=(15,4))\n",
    "plt.semilogy()\n",
    "plt.xlim(35,450)\n",
    "plt.errorbar(bincenters, bindensities, xerr=xerr, yerr=yerr,fmt='o',markersize=2)\n",
    "plt.xlabel('Jet Mass / GeV', size=axislabelsize)\n",
    "plt.ylabel('Number of events / GeV', size=axislabelsize)\n",
    "plt.title('QCD jet mass distribution')\n",
    "plt.show()"
   ]
  },
  {
   "cell_type": "markdown",
   "metadata": {},
   "source": [
    "## Part 2: Train the NN\n",
    "\n",
    "### Part 2a: Select and preprocess QCD and signal template data for training"
   ]
  },
  {
   "cell_type": "markdown",
   "metadata": {},
   "source": [
    "### Select training and validation QCD samples"
   ]
  },
  {
   "cell_type": "markdown",
   "metadata": {},
   "source": [
    "I will use the first 20% of the dataset for training and validation of the tagger, the rest will be used as test data for the tagger to generate final plots. Of this 20%, 80% will eventually be used for training, and 20% for validation.\n",
    "\n",
    "For training, I'm only going to use events within the mass window 65 - 105 GeV."
   ]
  },
  {
   "cell_type": "code",
   "execution_count": 8,
   "metadata": {},
   "outputs": [
    {
     "name": "stdout",
     "output_type": "stream",
     "text": [
      "68190\n"
     ]
    }
   ],
   "source": [
    "#Split data into train&val and test\n",
    "bgdatabinned_train_and_val = preprocessor.transform(bgdata[:int(len(bgdata)*0.2)])\n",
    "bgdatabinned_test = preprocessor.transform(bgdata[int(len(bgdata)*0.2):])\n",
    "\n",
    "#Select events only in 65-105 GeV mass window\n",
    "bgdata65to105masswindow = np.array(bgdatabinned_train_and_val[8])\n",
    "for i in range(9,16):\n",
    "    bgdata65to105masswindow = np.append(bgdata65to105masswindow,bgdatabinned_train_and_val[i],axis=0)\n",
    "rand.shuffle(bgdata65to105masswindow)\n",
    "print(len(bgdata65to105masswindow))"
   ]
  },
  {
   "cell_type": "markdown",
   "metadata": {},
   "source": [
    "## Import and preprocess signal data for training"
   ]
  },
  {
   "cell_type": "markdown",
   "metadata": {},
   "source": [
    "Here we import and process the six 'MI' datasets which act as a 'model independent' signal template for training. This data has already been selected within the 65 to 105 GeV mass window."
   ]
  },
  {
   "cell_type": "code",
   "execution_count": 9,
   "metadata": {},
   "outputs": [
    {
     "name": "stdout",
     "output_type": "stream",
     "text": [
      "Smallest signal dataset: 25959\n",
      "Max signal available: 155754\n",
      "Number of signal events to be used: 68190\n"
     ]
    }
   ],
   "source": [
    "data_prefix = './Input-Data/PT1000/'\n",
    "sigPnames = ['R2200-M80-2P_u',\n",
    "            'R2200-M80-3P_udd',\n",
    "            'R2200-M80-4P_u',\n",
    "            'R2200-M80-2P_b',\n",
    "            'R2200-M80-3P_ubb',\n",
    "            'R2200-M80-4P_b'\n",
    "           ]\n",
    "\n",
    "sigPdatalist = [np.loadtxt(data_prefix + filename + '.all.dat') for filename in sigPnames]\n",
    "sigPlengthmin = min([len(array) for array in sigPdatalist])\n",
    "print(\"Smallest signal dataset:\",sigPlengthmin)\n",
    "numtotsig = len(sigPdatalist)*sigPlengthmin\n",
    "#We arbitrarily chose to train on equal amounts of each MI data category,\n",
    "#this means that the max data available for this is determined by the smallest\n",
    "#signal category\n",
    "print(\"Max signal available:\",numtotsig)\n",
    "\n",
    "#We will want to train on equal signal and background, which might limit the amount of\n",
    "#signal data we can use\n",
    "numpersignal = min(math.floor(len(bgdata65to105masswindow)/6),sigPlengthmin)\n",
    "print(\"Number of signal events to be used:\",numpersignal*6)\n",
    "sigPdatainput = np.stack([dataset[:numpersignal] for dataset in sigPdatalist])\n",
    "sigPdatainput = sigPdatainput.reshape((len(sigPdatainput)*len(sigPdatainput[0]),-1),order='F')\n",
    "\n",
    "sigdatascaledbinned = preprocessor.transform(sigPdatainput)\n",
    "sigdata = np.array([entry for sublist in sigdatascaledbinned if len(sublist) > 0 for entry in sublist])"
   ]
  },
  {
   "cell_type": "markdown",
   "metadata": {},
   "source": [
    "### Select training and validation sets composed of signal and background"
   ]
  },
  {
   "cell_type": "code",
   "execution_count": 10,
   "metadata": {},
   "outputs": [
    {
     "name": "stdout",
     "output_type": "stream",
     "text": [
      "Training size =  54552\n",
      "Validation size =  13638\n"
     ]
    }
   ],
   "source": [
    "rand.shuffle(bgdata65to105masswindow)\n",
    "rand.shuffle(sigdata)\n",
    "valid_no = math.floor(len(sigdata)*0.2)\n",
    "train_no = len(sigdata) - valid_no\n",
    "test_no = len(bgdata65to105masswindow) - len(sigdata)\n",
    "test_frac = test_no / len(bgdata65to105masswindow)\n",
    "print('Training size = ', train_no)\n",
    "print('Validation size = ', valid_no)\n",
    "\n",
    "bgdata65to105masswindow_test = bgdata65to105masswindow[:test_no]\n",
    "bgdata65to105masswindow_train = bgdata65to105masswindow[test_no:train_no + test_no]\n",
    "bgdata65to105masswindow_val = bgdata65to105masswindow[test_no+train_no:test_no+train_no+valid_no]\n",
    "\n",
    "sigdata_train = sigdata[:train_no]\n",
    "sigdata_val = sigdata[train_no:valid_no+train_no]\n",
    "\n",
    "\n",
    "data_train = np.append(bgdata65to105masswindow_train,\n",
    "                       sigdata_train,\n",
    "                       axis=0)\n",
    "labels_train = np.append(np.zeros(train_no),np.ones(train_no))\n",
    "\n",
    "data_val = np.append(bgdata65to105masswindow_val,sigdata_val,axis=0)\n",
    "labels_val = np.append(np.zeros(valid_no),np.ones(valid_no))\n",
    "\n",
    "perms_train = rand.permutation(2*train_no)\n",
    "data_train = data_train[perms_train]\n",
    "labels_train = labels_train[perms_train]\n",
    "\n",
    "perms_val = rand.permutation(2*valid_no)\n",
    "data_val = data_val[perms_val]\n",
    "labels_val = labels_val[perms_val]"
   ]
  },
  {
   "cell_type": "markdown",
   "metadata": {},
   "source": [
    "### N-subjettiness basis selection"
   ]
  },
  {
   "cell_type": "markdown",
   "metadata": {},
   "source": [
    "Currently our data contains the full 7-body N-subjettiness basis. Here I define how to select only subsets of this basis. Firstly, we noticed that performanced plateaud already at 6-body. Secondly, tau_1^2 = (m_J / pT)^2, so actually this variable can be excised.\n",
    "\n",
    "The variable use_vars is the selection from now on."
   ]
  },
  {
   "cell_type": "code",
   "execution_count": 11,
   "metadata": {
    "collapsed": true
   },
   "outputs": [],
   "source": [
    "twobody = [0,6]\n",
    "threebody = [0,1,6,6+1,2*6]\n",
    "fourbody = [0,1,2,6,6+1,6+2,2*6,2*6+1]\n",
    "fivebody = [0,1,2,3,6,6+1,6+2,6+3,2*6,2*6+1,2*6+2]\n",
    "sixbody = [0,1,2,3,4,6,6+1,6+2,6+3,6+4,2*6,2*6+1,2*6+2,2*6+3]\n",
    "sixbody_without_tau12 = [0,1,2,3,4,6+1,6+2,6+3,6+4,2*6,2*6+1,2*6+2,2*6+3]\n",
    "sevenbody = [0,1,2,3,4,5,6,6+1,6+2,6+3,6+4,6+5,2*6,2*6+1,2*6+2,2*6+3,2*6+4]\n",
    "sevenbody_without_tau12 = [0,1,2,3,4,5,6+1,6+2,6+3,6+4,6+5,2*6,2*6+1,2*6+2,2*6+3,2*6+4]\n",
    "\n",
    "#Choose basis to use from now on\n",
    "use_vars = sixbody_without_tau12"
   ]
  },
  {
   "cell_type": "markdown",
   "metadata": {},
   "source": [
    "### Part 2b: Train the NN\n",
    "\n",
    "Firstly lets specify many of the parameters I will use for training."
   ]
  },
  {
   "cell_type": "code",
   "execution_count": 12,
   "metadata": {},
   "outputs": [
    {
     "name": "stderr",
     "output_type": "stream",
     "text": [
      "Using TensorFlow backend.\n"
     ]
    }
   ],
   "source": [
    "#Now let's train a NN! This block specifies the parameters I will use\n",
    "\n",
    "import keras as keras\n",
    "from keras.models import Sequential, load_model\n",
    "from keras.layers import Dense, Activation\n",
    "from keras.callbacks import EarlyStopping, ReduceLROnPlateau\n",
    "from sklearn.metrics import roc_curve, auc, roc_auc_score\n",
    "import pickle as pickle\n",
    "import tensorflow as tf\n",
    "\n",
    "early_stopping = EarlyStopping(monitor='val_loss', patience=5,verbose=1)\n",
    "reduce_LR = ReduceLROnPlateau(monitor='val_loss', patience=3,verbose=1)\n",
    "\n",
    "mycallbacks=[early_stopping, reduce_LR]\n",
    "batch_size=500\n",
    "\n",
    "models = {}\n",
    "models_hist = {}\n",
    "\n",
    "ntries = 5\n",
    "\n",
    "sig_predict={}\n",
    "bg_predict={}"
   ]
  },
  {
   "cell_type": "markdown",
   "metadata": {},
   "source": [
    "### Option 1: Load existing NN\n",
    "\n",
    "We can load the existing model instead of training a new one"
   ]
  },
  {
   "cell_type": "code",
   "execution_count": 104,
   "metadata": {
    "collapsed": true
   },
   "outputs": [],
   "source": [
    "#Either load existing NN model in this block, or use the next block to train a new one\n",
    "model_name = 'jet_mass_1000_80_sixbody_notau12'\n",
    "from keras.models import load_model\n",
    "models[model_name] = load_model('./saved_models/' + model_name + '.h5')"
   ]
  },
  {
   "cell_type": "markdown",
   "metadata": {},
   "source": [
    "### Option 2: Train a new NN\n",
    "\n",
    "This will train five times with different initial seeds, and pick the best as measured by area under the ROC curve in validation data."
   ]
  },
  {
   "cell_type": "code",
   "execution_count": 13,
   "metadata": {
    "scrolled": true
   },
   "outputs": [
    {
     "name": "stdout",
     "output_type": "stream",
     "text": [
      "Train on 109104 samples, validate on 27276 samples\n",
      "Epoch 1/100\n",
      "109104/109104 [==============================] - 1s - loss: 0.3760 - acc: 0.8387 - val_loss: 0.3641 - val_acc: 0.8424\n",
      "Epoch 2/100\n",
      "109104/109104 [==============================] - 1s - loss: 0.3531 - acc: 0.8489 - val_loss: 0.3566 - val_acc: 0.8477\n",
      "Epoch 3/100\n",
      "109104/109104 [==============================] - 1s - loss: 0.3504 - acc: 0.8489 - val_loss: 0.3565 - val_acc: 0.8476\n",
      "Epoch 4/100\n",
      "109104/109104 [==============================] - 1s - loss: 0.3487 - acc: 0.8496 - val_loss: 0.3540 - val_acc: 0.8483\n",
      "Epoch 5/100\n",
      "109104/109104 [==============================] - 1s - loss: 0.3474 - acc: 0.8503 - val_loss: 0.3523 - val_acc: 0.8496\n",
      "Epoch 6/100\n",
      "109104/109104 [==============================] - 1s - loss: 0.3460 - acc: 0.8509 - val_loss: 0.3521 - val_acc: 0.8498\n",
      "Epoch 7/100\n",
      "109104/109104 [==============================] - 1s - loss: 0.3449 - acc: 0.8514 - val_loss: 0.3511 - val_acc: 0.8520\n",
      "Epoch 8/100\n",
      "109104/109104 [==============================] - 1s - loss: 0.3440 - acc: 0.8515 - val_loss: 0.3615 - val_acc: 0.8474\n",
      "Epoch 9/100\n",
      "109104/109104 [==============================] - 1s - loss: 0.3433 - acc: 0.8520 - val_loss: 0.3523 - val_acc: 0.8495\n",
      "Epoch 10/100\n",
      "109104/109104 [==============================] - 1s - loss: 0.3427 - acc: 0.8524 - val_loss: 0.3502 - val_acc: 0.8497\n",
      "Epoch 11/100\n",
      "109104/109104 [==============================] - 1s - loss: 0.3418 - acc: 0.8529 - val_loss: 0.3528 - val_acc: 0.8491\n",
      "Epoch 12/100\n",
      "109104/109104 [==============================] - 1s - loss: 0.3412 - acc: 0.8527 - val_loss: 0.3488 - val_acc: 0.8514\n",
      "Epoch 13/100\n",
      "109104/109104 [==============================] - 1s - loss: 0.3405 - acc: 0.8531 - val_loss: 0.3543 - val_acc: 0.8490\n",
      "Epoch 14/100\n",
      "109104/109104 [==============================] - 1s - loss: 0.3401 - acc: 0.8535 - val_loss: 0.3496 - val_acc: 0.8503\n",
      "Epoch 15/100\n",
      "109104/109104 [==============================] - 1s - loss: 0.3394 - acc: 0.8540 - val_loss: 0.3530 - val_acc: 0.8488\n",
      "Epoch 16/100\n",
      "108000/109104 [============================>.] - ETA: 0s - loss: 0.3392 - acc: 0.8534\n",
      "Epoch 00015: reducing learning rate to 0.00010000000474974513.\n",
      "109104/109104 [==============================] - 1s - loss: 0.3390 - acc: 0.8535 - val_loss: 0.3570 - val_acc: 0.8488\n",
      "Epoch 17/100\n",
      "109104/109104 [==============================] - 1s - loss: 0.3356 - acc: 0.8555 - val_loss: 0.3466 - val_acc: 0.8529\n",
      "Epoch 18/100\n",
      "109104/109104 [==============================] - 1s - loss: 0.3346 - acc: 0.8557 - val_loss: 0.3466 - val_acc: 0.8528\n",
      "Epoch 19/100\n",
      "109104/109104 [==============================] - 1s - loss: 0.3345 - acc: 0.8562 - val_loss: 0.3471 - val_acc: 0.8527\n",
      "Epoch 20/100\n",
      "109104/109104 [==============================] - 1s - loss: 0.3343 - acc: 0.8564 - val_loss: 0.3467 - val_acc: 0.8524\n",
      "Epoch 21/100\n",
      "107000/109104 [============================>.] - ETA: 0s - loss: 0.3339 - acc: 0.8561\n",
      "Epoch 00020: reducing learning rate to 1.0000000474974514e-05.\n",
      "109104/109104 [==============================] - 1s - loss: 0.3342 - acc: 0.8561 - val_loss: 0.3469 - val_acc: 0.8525\n",
      "Epoch 22/100\n",
      "109104/109104 [==============================] - 1s - loss: 0.3337 - acc: 0.8564 - val_loss: 0.3466 - val_acc: 0.8523\n",
      "Epoch 23/100\n",
      "109104/109104 [==============================] - 1s - loss: 0.3337 - acc: 0.8566 - val_loss: 0.3466 - val_acc: 0.8522\n",
      "Epoch 24/100\n",
      "107000/109104 [============================>.] - ETA: 0s - loss: 0.3334 - acc: 0.8569\n",
      "Epoch 00023: reducing learning rate to 1.0000000656873453e-06.\n",
      "109104/109104 [==============================] - 1s - loss: 0.3336 - acc: 0.8567 - val_loss: 0.3466 - val_acc: 0.8523\n",
      "Epoch 25/100\n",
      "109104/109104 [==============================] - 1s - loss: 0.3336 - acc: 0.8566 - val_loss: 0.3466 - val_acc: 0.8523\n",
      "Epoch 26/100\n",
      "109104/109104 [==============================] - 1s - loss: 0.3336 - acc: 0.8566 - val_loss: 0.3466 - val_acc: 0.8522\n",
      "Epoch 27/100\n",
      "105500/109104 [============================>.] - ETA: 0s - loss: 0.3333 - acc: 0.8565\n",
      "Epoch 00026: reducing learning rate to 1.0000001111620805e-07.\n",
      "109104/109104 [==============================] - 1s - loss: 0.3336 - acc: 0.8566 - val_loss: 0.3466 - val_acc: 0.8522\n",
      "Epoch 28/100\n",
      "109104/109104 [==============================] - 1s - loss: 0.3336 - acc: 0.8566 - val_loss: 0.3466 - val_acc: 0.8522\n",
      "Epoch 00027: early stopping\n",
      "0.926013168394\n",
      "Train on 109104 samples, validate on 27276 samples\n",
      "Epoch 1/100\n",
      "109104/109104 [==============================] - 1s - loss: 0.3805 - acc: 0.8365 - val_loss: 0.3595 - val_acc: 0.8469\n",
      "Epoch 2/100\n",
      "109104/109104 [==============================] - 1s - loss: 0.3538 - acc: 0.8479 - val_loss: 0.3631 - val_acc: 0.8463\n",
      "Epoch 3/100\n",
      "109104/109104 [==============================] - 1s - loss: 0.3511 - acc: 0.8487 - val_loss: 0.3571 - val_acc: 0.8463\n",
      "Epoch 4/100\n",
      "109104/109104 [==============================] - 1s - loss: 0.3491 - acc: 0.8495 - val_loss: 0.3603 - val_acc: 0.8448\n",
      "Epoch 5/100\n",
      "109104/109104 [==============================] - ETA: 0s - loss: 0.3473 - acc: 0.850 - 1s - loss: 0.3478 - acc: 0.8506 - val_loss: 0.3549 - val_acc: 0.8489\n",
      "Epoch 6/100\n",
      "109104/109104 [==============================] - 1s - loss: 0.3467 - acc: 0.8504 - val_loss: 0.3649 - val_acc: 0.8417\n",
      "Epoch 7/100\n",
      "109104/109104 [==============================] - 1s - loss: 0.3452 - acc: 0.8517 - val_loss: 0.3581 - val_acc: 0.8477\n",
      "Epoch 8/100\n",
      "109104/109104 [==============================] - 1s - loss: 0.3444 - acc: 0.8519 - val_loss: 0.3561 - val_acc: 0.8501\n",
      "Epoch 9/100\n",
      "109104/109104 [==============================] - 1s - loss: 0.3434 - acc: 0.8522 - val_loss: 0.3521 - val_acc: 0.8486\n",
      "Epoch 10/100\n",
      "109104/109104 [==============================] - 1s - loss: 0.3430 - acc: 0.8526 - val_loss: 0.3512 - val_acc: 0.8523\n",
      "Epoch 11/100\n",
      "109104/109104 [==============================] - 1s - loss: 0.3421 - acc: 0.8522 - val_loss: 0.3486 - val_acc: 0.8523\n",
      "Epoch 12/100\n",
      "109104/109104 [==============================] - 1s - loss: 0.3415 - acc: 0.8528 - val_loss: 0.3552 - val_acc: 0.8505\n",
      "Epoch 13/100\n",
      "109104/109104 [==============================] - 1s - loss: 0.3407 - acc: 0.8531 - val_loss: 0.3509 - val_acc: 0.8498\n",
      "Epoch 14/100\n",
      "109104/109104 [==============================] - 1s - loss: 0.3402 - acc: 0.8540 - val_loss: 0.3519 - val_acc: 0.8518\n",
      "Epoch 15/100\n",
      "104500/109104 [===========================>..] - ETA: 0s - loss: 0.3394 - acc: 0.8533\n",
      "Epoch 00014: reducing learning rate to 0.00010000000474974513.\n",
      "109104/109104 [==============================] - 1s - loss: 0.3396 - acc: 0.8534 - val_loss: 0.3509 - val_acc: 0.8514\n",
      "Epoch 16/100\n",
      "109104/109104 [==============================] - 1s - loss: 0.3361 - acc: 0.8554 - val_loss: 0.3478 - val_acc: 0.8523\n",
      "Epoch 17/100\n",
      "109104/109104 [==============================] - 1s - loss: 0.3356 - acc: 0.8559 - val_loss: 0.3475 - val_acc: 0.8521\n",
      "Epoch 18/100\n",
      "109104/109104 [==============================] - 1s - loss: 0.3354 - acc: 0.8557 - val_loss: 0.3476 - val_acc: 0.8527\n",
      "Epoch 19/100\n",
      "109104/109104 [==============================] - 1s - loss: 0.3352 - acc: 0.8560 - val_loss: 0.3475 - val_acc: 0.8521\n",
      "Epoch 20/100\n",
      "109104/109104 [==============================] - 1s - loss: 0.3351 - acc: 0.8556 - val_loss: 0.3477 - val_acc: 0.8527\n",
      "Epoch 21/100\n",
      "107500/109104 [============================>.] - ETA: 0s - loss: 0.3348 - acc: 0.8559\n",
      "Epoch 00020: reducing learning rate to 1.0000000474974514e-05.\n",
      "109104/109104 [==============================] - 1s - loss: 0.3350 - acc: 0.8558 - val_loss: 0.3476 - val_acc: 0.8527\n",
      "Epoch 22/100\n",
      "109104/109104 [==============================] - 1s - loss: 0.3345 - acc: 0.8560 - val_loss: 0.3474 - val_acc: 0.8528\n",
      "Epoch 23/100\n",
      "109104/109104 [==============================] - 1s - loss: 0.3345 - acc: 0.8561 - val_loss: 0.3474 - val_acc: 0.8525\n",
      "Epoch 24/100\n",
      "109104/109104 [==============================] - 1s - loss: 0.3344 - acc: 0.8560 - val_loss: 0.3473 - val_acc: 0.8526\n",
      "Epoch 25/100\n",
      "109104/109104 [==============================] - 1s - loss: 0.3344 - acc: 0.8563 - val_loss: 0.3473 - val_acc: 0.8526\n",
      "Epoch 26/100\n",
      "109104/109104 [==============================] - 1s - loss: 0.3344 - acc: 0.8559 - val_loss: 0.3473 - val_acc: 0.8527\n",
      "Epoch 27/100\n"
     ]
    },
    {
     "name": "stdout",
     "output_type": "stream",
     "text": [
      "105500/109104 [============================>.] - ETA: 0s - loss: 0.3340 - acc: 0.8562\n",
      "Epoch 00026: reducing learning rate to 1.0000000656873453e-06.\n",
      "109104/109104 [==============================] - 1s - loss: 0.3344 - acc: 0.8562 - val_loss: 0.3473 - val_acc: 0.8525\n",
      "Epoch 28/100\n",
      "109104/109104 [==============================] - 1s - loss: 0.3343 - acc: 0.8561 - val_loss: 0.3473 - val_acc: 0.8525\n",
      "Epoch 29/100\n",
      "109104/109104 [==============================] - 1s - loss: 0.3343 - acc: 0.8561 - val_loss: 0.3473 - val_acc: 0.8525\n",
      "Epoch 30/100\n",
      "106000/109104 [============================>.] - ETA: 0s - loss: 0.3339 - acc: 0.8561\n",
      "Epoch 00029: reducing learning rate to 1.0000001111620805e-07.\n",
      "109104/109104 [==============================] - 1s - loss: 0.3343 - acc: 0.8561 - val_loss: 0.3473 - val_acc: 0.8526\n",
      "Epoch 31/100\n",
      "109104/109104 [==============================] - 1s - loss: 0.3343 - acc: 0.8561 - val_loss: 0.3473 - val_acc: 0.8526\n",
      "Epoch 32/100\n",
      "109104/109104 [==============================] - 1s - loss: 0.3343 - acc: 0.8561 - val_loss: 0.3473 - val_acc: 0.8526\n",
      "Epoch 33/100\n",
      "106000/109104 [============================>.] - ETA: 0s - loss: 0.3341 - acc: 0.8561\n",
      "Epoch 00032: reducing learning rate to 1.000000082740371e-08.\n",
      "109104/109104 [==============================] - 1s - loss: 0.3343 - acc: 0.8561 - val_loss: 0.3473 - val_acc: 0.8526\n",
      "Epoch 34/100\n",
      "109104/109104 [==============================] - 1s - loss: 0.3343 - acc: 0.8561 - val_loss: 0.3473 - val_acc: 0.8526\n",
      "Epoch 35/100\n",
      "109104/109104 [==============================] - 1s - loss: 0.3343 - acc: 0.8561 - val_loss: 0.3473 - val_acc: 0.8526\n",
      "Epoch 36/100\n",
      "108000/109104 [============================>.] - ETA: 0s - loss: 0.3343 - acc: 0.8561\n",
      "Epoch 00035: reducing learning rate to 1.000000082740371e-09.\n",
      "109104/109104 [==============================] - 1s - loss: 0.3343 - acc: 0.8561 - val_loss: 0.3473 - val_acc: 0.8526\n",
      "Epoch 37/100\n",
      "109104/109104 [==============================] - 1s - loss: 0.3343 - acc: 0.8561 - val_loss: 0.3473 - val_acc: 0.8526\n",
      "Epoch 38/100\n",
      "109104/109104 [==============================] - 1s - loss: 0.3343 - acc: 0.8561 - val_loss: 0.3473 - val_acc: 0.8526\n",
      "Epoch 39/100\n",
      "105000/109104 [===========================>..] - ETA: 0s - loss: 0.3343 - acc: 0.8560\n",
      "Epoch 00038: reducing learning rate to 1.000000082740371e-10.\n",
      "109104/109104 [==============================] - 1s - loss: 0.3343 - acc: 0.8561 - val_loss: 0.3473 - val_acc: 0.8526\n",
      "Epoch 40/100\n",
      "109104/109104 [==============================] - 1s - loss: 0.3343 - acc: 0.8561 - val_loss: 0.3473 - val_acc: 0.8526\n",
      "Epoch 41/100\n",
      "109104/109104 [==============================] - 1s - loss: 0.3343 - acc: 0.8561 - val_loss: 0.3473 - val_acc: 0.8526\n",
      "Epoch 42/100\n",
      "105500/109104 [============================>.] - ETA: 0s - loss: 0.3340 - acc: 0.8562\n",
      "Epoch 00041: reducing learning rate to 1.000000082740371e-11.\n",
      "109104/109104 [==============================] - 1s - loss: 0.3343 - acc: 0.8561 - val_loss: 0.3473 - val_acc: 0.8526\n",
      "Epoch 43/100\n",
      "109104/109104 [==============================] - 1s - loss: 0.3343 - acc: 0.8561 - val_loss: 0.3473 - val_acc: 0.8526\n",
      "Epoch 44/100\n",
      "109104/109104 [==============================] - 1s - loss: 0.3343 - acc: 0.8561 - val_loss: 0.3473 - val_acc: 0.8526\n",
      "Epoch 45/100\n",
      "108000/109104 [============================>.] - ETA: 0s - loss: 0.3343 - acc: 0.8561\n",
      "Epoch 00044: reducing learning rate to 1.000000082740371e-12.\n",
      "109104/109104 [==============================] - 1s - loss: 0.3343 - acc: 0.8561 - val_loss: 0.3473 - val_acc: 0.8526\n",
      "Epoch 46/100\n",
      "109104/109104 [==============================] - 1s - loss: 0.3343 - acc: 0.8561 - val_loss: 0.3473 - val_acc: 0.8526\n",
      "Epoch 00045: early stopping\n",
      "0.925661513863\n",
      "Train on 109104 samples, validate on 27276 samples\n",
      "Epoch 1/100\n",
      "109104/109104 [==============================] - 1s - loss: 0.3819 - acc: 0.8352 - val_loss: 0.3638 - val_acc: 0.8438\n",
      "Epoch 2/100\n",
      "109104/109104 [==============================] - 1s - loss: 0.3539 - acc: 0.8479 - val_loss: 0.3562 - val_acc: 0.8483\n",
      "Epoch 3/100\n",
      "109104/109104 [==============================] - 1s - loss: 0.3512 - acc: 0.8486 - val_loss: 0.3544 - val_acc: 0.8487\n",
      "Epoch 4/100\n",
      "109104/109104 [==============================] - 1s - loss: 0.3495 - acc: 0.8496 - val_loss: 0.3568 - val_acc: 0.8481\n",
      "Epoch 5/100\n",
      "109104/109104 [==============================] - 1s - loss: 0.3483 - acc: 0.8500 - val_loss: 0.3531 - val_acc: 0.8505\n",
      "Epoch 6/100\n",
      "109104/109104 [==============================] - 1s - loss: 0.3467 - acc: 0.8503 - val_loss: 0.3541 - val_acc: 0.8502\n",
      "Epoch 7/100\n",
      "109104/109104 [==============================] - 1s - loss: 0.3458 - acc: 0.8503 - val_loss: 0.3514 - val_acc: 0.8515\n",
      "Epoch 8/100\n",
      "109104/109104 [==============================] - 1s - loss: 0.3449 - acc: 0.8514 - val_loss: 0.3507 - val_acc: 0.8513\n",
      "Epoch 9/100\n",
      "109104/109104 [==============================] - 1s - loss: 0.3437 - acc: 0.8515 - val_loss: 0.3525 - val_acc: 0.8490\n",
      "Epoch 10/100\n",
      "109104/109104 [==============================] - 1s - loss: 0.3431 - acc: 0.8523 - val_loss: 0.3526 - val_acc: 0.8514\n",
      "Epoch 11/100\n",
      "109104/109104 [==============================] - 1s - loss: 0.3423 - acc: 0.8528 - val_loss: 0.3522 - val_acc: 0.8508\n",
      "Epoch 12/100\n",
      "109000/109104 [============================>.] - ETA: 0s - loss: 0.3417 - acc: 0.8534\n",
      "Epoch 00011: reducing learning rate to 0.00010000000474974513.\n",
      "109104/109104 [==============================] - 1s - loss: 0.3417 - acc: 0.8534 - val_loss: 0.3509 - val_acc: 0.8514\n",
      "Epoch 13/100\n",
      "109104/109104 [==============================] - 1s - loss: 0.3383 - acc: 0.8542 - val_loss: 0.3479 - val_acc: 0.8524\n",
      "Epoch 14/100\n",
      "109104/109104 [==============================] - 1s - loss: 0.3379 - acc: 0.8544 - val_loss: 0.3478 - val_acc: 0.8529\n",
      "Epoch 15/100\n",
      "109104/109104 [==============================] - 1s - loss: 0.3378 - acc: 0.8549 - val_loss: 0.3480 - val_acc: 0.8527\n",
      "Epoch 16/100\n",
      "109104/109104 [==============================] - 1s - loss: 0.3376 - acc: 0.8545 - val_loss: 0.3480 - val_acc: 0.8524\n",
      "Epoch 17/100\n",
      "109104/109104 [==============================] - 1s - loss: 0.3375 - acc: 0.8544 - val_loss: 0.3479 - val_acc: 0.8525\n",
      "Epoch 18/100\n",
      "108500/109104 [============================>.] - ETA: 0s - loss: 0.3375 - acc: 0.8543\n",
      "Epoch 00017: reducing learning rate to 1.0000000474974514e-05.\n",
      "109104/109104 [==============================] - 1s - loss: 0.3374 - acc: 0.8543 - val_loss: 0.3481 - val_acc: 0.8527\n",
      "Epoch 19/100\n",
      "109104/109104 [==============================] - 1s - loss: 0.3370 - acc: 0.8547 - val_loss: 0.3479 - val_acc: 0.8524\n",
      "Epoch 20/100\n",
      "109104/109104 [==============================] - 1s - loss: 0.3369 - acc: 0.8548 - val_loss: 0.3478 - val_acc: 0.8525\n",
      "Epoch 00019: early stopping\n",
      "0.92541890256\n",
      "Train on 109104 samples, validate on 27276 samples\n",
      "Epoch 1/100\n",
      "109104/109104 [==============================] - 1s - loss: 0.3752 - acc: 0.8391 - val_loss: 0.3599 - val_acc: 0.8457\n",
      "Epoch 2/100\n",
      "109104/109104 [==============================] - 1s - loss: 0.3530 - acc: 0.8484 - val_loss: 0.3546 - val_acc: 0.8492\n",
      "Epoch 3/100\n",
      "109104/109104 [==============================] - 1s - loss: 0.3502 - acc: 0.8495 - val_loss: 0.3538 - val_acc: 0.8492\n",
      "Epoch 4/100\n",
      "109104/109104 [==============================] - 1s - loss: 0.3481 - acc: 0.8502 - val_loss: 0.3550 - val_acc: 0.8504\n",
      "Epoch 5/100\n",
      "109104/109104 [==============================] - 1s - loss: 0.3470 - acc: 0.8511 - val_loss: 0.3506 - val_acc: 0.8507\n",
      "Epoch 6/100\n",
      "109104/109104 [==============================] - 1s - loss: 0.3457 - acc: 0.8509 - val_loss: 0.3586 - val_acc: 0.8475\n",
      "Epoch 7/100\n",
      "109104/109104 [==============================] - 1s - loss: 0.3447 - acc: 0.8517 - val_loss: 0.3495 - val_acc: 0.8511\n",
      "Epoch 8/100\n",
      "109104/109104 [==============================] - 1s - loss: 0.3434 - acc: 0.8519 - val_loss: 0.3506 - val_acc: 0.8509\n",
      "Epoch 9/100\n",
      "109104/109104 [==============================] - 1s - loss: 0.3427 - acc: 0.8523 - val_loss: 0.3512 - val_acc: 0.8503\n",
      "Epoch 10/100\n",
      "109104/109104 [==============================] - 1s - loss: 0.3420 - acc: 0.8529 - val_loss: 0.3526 - val_acc: 0.8491\n",
      "Epoch 11/100\n",
      "109104/109104 [==============================] - 1s - loss: 0.3412 - acc: 0.8536 - val_loss: 0.3489 - val_acc: 0.8517\n",
      "Epoch 12/100\n"
     ]
    },
    {
     "name": "stdout",
     "output_type": "stream",
     "text": [
      "109104/109104 [==============================] - 1s - loss: 0.3407 - acc: 0.8531 - val_loss: 0.3503 - val_acc: 0.8515\n",
      "Epoch 13/100\n",
      "109104/109104 [==============================] - 1s - loss: 0.3399 - acc: 0.8538 - val_loss: 0.3539 - val_acc: 0.8487\n",
      "Epoch 14/100\n",
      "109104/109104 [==============================] - 1s - loss: 0.3396 - acc: 0.8542 - val_loss: 0.3513 - val_acc: 0.8487\n",
      "Epoch 15/100\n",
      "108000/109104 [============================>.] - ETA: 0s - loss: 0.3392 - acc: 0.8535\n",
      "Epoch 00014: reducing learning rate to 0.00010000000474974513.\n",
      "109104/109104 [==============================] - 1s - loss: 0.3389 - acc: 0.8537 - val_loss: 0.3547 - val_acc: 0.8487\n",
      "Epoch 16/100\n",
      "109104/109104 [==============================] - 1s - loss: 0.3357 - acc: 0.8558 - val_loss: 0.3463 - val_acc: 0.8515\n",
      "Epoch 17/100\n",
      "109104/109104 [==============================] - 1s - loss: 0.3347 - acc: 0.8564 - val_loss: 0.3466 - val_acc: 0.8517\n",
      "Epoch 18/100\n",
      "109104/109104 [==============================] - 1s - loss: 0.3345 - acc: 0.8562 - val_loss: 0.3465 - val_acc: 0.8512\n",
      "Epoch 19/100\n",
      "109104/109104 [==============================] - 1s - loss: 0.3344 - acc: 0.8567 - val_loss: 0.3465 - val_acc: 0.8521\n",
      "Epoch 20/100\n",
      "109104/109104 [==============================] - 1s - loss: 0.3343 - acc: 0.8566 - val_loss: 0.3462 - val_acc: 0.8517\n",
      "Epoch 21/100\n",
      "109104/109104 [==============================] - 1s - loss: 0.3341 - acc: 0.8563 - val_loss: 0.3463 - val_acc: 0.8517\n",
      "Epoch 22/100\n",
      "109104/109104 [==============================] - 1s - loss: 0.3340 - acc: 0.8563 - val_loss: 0.3469 - val_acc: 0.8524\n",
      "Epoch 23/100\n",
      "109104/109104 [==============================] - 1s - loss: 0.3339 - acc: 0.8567 - val_loss: 0.3463 - val_acc: 0.8520\n",
      "Epoch 24/100\n",
      "108000/109104 [============================>.] - ETA: 0s - loss: 0.3338 - acc: 0.8567\n",
      "Epoch 00023: reducing learning rate to 1.0000000474974514e-05.\n",
      "109104/109104 [==============================] - 1s - loss: 0.3338 - acc: 0.8566 - val_loss: 0.3466 - val_acc: 0.8523\n",
      "Epoch 25/100\n",
      "109104/109104 [==============================] - 1s - loss: 0.3334 - acc: 0.8570 - val_loss: 0.3463 - val_acc: 0.8517\n",
      "Epoch 26/100\n",
      "109104/109104 [==============================] - 1s - loss: 0.3333 - acc: 0.8570 - val_loss: 0.3462 - val_acc: 0.8517\n",
      "Epoch 00025: early stopping\n",
      "0.926170519361\n",
      "Train on 109104 samples, validate on 27276 samples\n",
      "Epoch 1/100\n",
      "109104/109104 [==============================] - 1s - loss: 0.3825 - acc: 0.8352 - val_loss: 0.3605 - val_acc: 0.8463\n",
      "Epoch 2/100\n",
      "109104/109104 [==============================] - 1s - loss: 0.3539 - acc: 0.8480 - val_loss: 0.3617 - val_acc: 0.8434\n",
      "Epoch 3/100\n",
      "109104/109104 [==============================] - 1s - loss: 0.3510 - acc: 0.8486 - val_loss: 0.3546 - val_acc: 0.8489\n",
      "Epoch 4/100\n",
      "109104/109104 [==============================] - 1s - loss: 0.3494 - acc: 0.8504 - val_loss: 0.3534 - val_acc: 0.8494\n",
      "Epoch 5/100\n",
      "109104/109104 [==============================] - 1s - loss: 0.3478 - acc: 0.8505 - val_loss: 0.3568 - val_acc: 0.8474\n",
      "Epoch 6/100\n",
      "109104/109104 [==============================] - 1s - loss: 0.3465 - acc: 0.8503 - val_loss: 0.3546 - val_acc: 0.8470\n",
      "Epoch 7/100\n",
      "109104/109104 [==============================] - 1s - loss: 0.3454 - acc: 0.8521 - val_loss: 0.3507 - val_acc: 0.8504\n",
      "Epoch 8/100\n",
      "109104/109104 [==============================] - 1s - loss: 0.3442 - acc: 0.8524 - val_loss: 0.3524 - val_acc: 0.8500\n",
      "Epoch 9/100\n",
      "109104/109104 [==============================] - 1s - loss: 0.3435 - acc: 0.8521 - val_loss: 0.3507 - val_acc: 0.8503\n",
      "Epoch 10/100\n",
      "109104/109104 [==============================] - 1s - loss: 0.3428 - acc: 0.8530 - val_loss: 0.3501 - val_acc: 0.8510\n",
      "Epoch 11/100\n",
      "109104/109104 [==============================] - 1s - loss: 0.3423 - acc: 0.8531 - val_loss: 0.3515 - val_acc: 0.8505\n",
      "Epoch 12/100\n",
      "109104/109104 [==============================] - 1s - loss: 0.3413 - acc: 0.8533 - val_loss: 0.3563 - val_acc: 0.8488\n",
      "Epoch 13/100\n",
      "109104/109104 [==============================] - 1s - loss: 0.3410 - acc: 0.8539 - val_loss: 0.3532 - val_acc: 0.8500\n",
      "Epoch 14/100\n",
      "109104/109104 [==============================] - 1s - loss: 0.3406 - acc: 0.8533 - val_loss: 0.3483 - val_acc: 0.8515\n",
      "Epoch 15/100\n",
      "109104/109104 [==============================] - 1s - loss: 0.3398 - acc: 0.8541 - val_loss: 0.3511 - val_acc: 0.8511\n",
      "Epoch 16/100\n",
      "109104/109104 [==============================] - 1s - loss: 0.3394 - acc: 0.8541 - val_loss: 0.3545 - val_acc: 0.8494\n",
      "Epoch 17/100\n",
      "109104/109104 [==============================] - 1s - loss: 0.3392 - acc: 0.8551 - val_loss: 0.3603 - val_acc: 0.8451\n",
      "Epoch 18/100\n",
      "107000/109104 [============================>.] - ETA: 0s - loss: 0.3384 - acc: 0.8550\n",
      "Epoch 00017: reducing learning rate to 0.00010000000474974513.\n",
      "109104/109104 [==============================] - 1s - loss: 0.3387 - acc: 0.8549 - val_loss: 0.3520 - val_acc: 0.8498\n",
      "Epoch 19/100\n",
      "109104/109104 [==============================] - 1s - loss: 0.3350 - acc: 0.8565 - val_loss: 0.3476 - val_acc: 0.8525\n",
      "Epoch 20/100\n",
      "109104/109104 [==============================] - 1s - loss: 0.3345 - acc: 0.8567 - val_loss: 0.3475 - val_acc: 0.8528\n",
      "Epoch 21/100\n",
      "109104/109104 [==============================] - 1s - loss: 0.3343 - acc: 0.8569 - val_loss: 0.3471 - val_acc: 0.8537\n",
      "Epoch 22/100\n",
      "109104/109104 [==============================] - 1s - loss: 0.3342 - acc: 0.8568 - val_loss: 0.3473 - val_acc: 0.8534\n",
      "Epoch 23/100\n",
      "109104/109104 [==============================] - 1s - loss: 0.3341 - acc: 0.8569 - val_loss: 0.3476 - val_acc: 0.8527\n",
      "Epoch 24/100\n",
      "109104/109104 [==============================] - 1s - loss: 0.3340 - acc: 0.8571 - val_loss: 0.3473 - val_acc: 0.8531\n",
      "Epoch 25/100\n",
      "105500/109104 [============================>.] - ETA: 0s - loss: 0.3345 - acc: 0.8568\n",
      "Epoch 00024: reducing learning rate to 1.0000000474974514e-05.\n",
      "109104/109104 [==============================] - 1s - loss: 0.3339 - acc: 0.8570 - val_loss: 0.3473 - val_acc: 0.8533\n",
      "Epoch 26/100\n",
      "109104/109104 [==============================] - 1s - loss: 0.3335 - acc: 0.8572 - val_loss: 0.3472 - val_acc: 0.8534\n",
      "Epoch 27/100\n",
      "109104/109104 [==============================] - 1s - loss: 0.3334 - acc: 0.8571 - val_loss: 0.3472 - val_acc: 0.8536\n",
      "Epoch 00026: early stopping\n",
      "0.925729295239\n",
      "[0.92601316839388481, 0.92566151386270268, 0.92541890255957582, 0.92617051936072015, 0.92572929523864089]\n"
     ]
    }
   ],
   "source": [
    "#Train baby, train!\n",
    "#This will train five times and pick the very best.\n",
    "\n",
    "model_name = 'jet_mass_1000_80_sixbody_notau12'\n",
    "\n",
    "numvars=len(use_vars)\n",
    "aucs = list()\n",
    "aucmax=0\n",
    "for i in range(ntries):\n",
    "    model = Sequential()\n",
    "    model.add(Dense(256, activation='relu', input_dim=numvars))\n",
    "    model.add(Dense(16, activation='relu'))\n",
    "    model.add(Dense(1, activation='sigmoid'))\n",
    "    model.compile(optimizer='rmsprop',\n",
    "              loss='binary_crossentropy',\n",
    "              metrics=['accuracy'])\n",
    "    model_hist = model.fit(data_train[:,use_vars], labels_train, epochs=100, batch_size=batch_size,\n",
    "                        validation_data=(data_val[:,use_vars],labels_val),callbacks=mycallbacks,verbose=1)\n",
    "\n",
    "    newauc = roc_auc_score(labels_val,model.predict(data_val[:,use_vars]))\n",
    "    aucs.append(newauc)\n",
    "    print(newauc)\n",
    "    if newauc > aucmax:\n",
    "        aucmax = newauc\n",
    "        \n",
    "        models[model_name] = model\n",
    "        models_hist[model_name] = model_hist\n",
    "        \n",
    "print(aucs)\n",
    "\n",
    "#Save the model\n",
    "models[model_name].save('./saved_models/'+model_name+'.h5')\n",
    "with open('./saved_models/hist_'+model_name, 'wb') as file_pi:\n",
    "    pickle.dump(models_hist[model_name].history, file_pi)\n",
    "    \n",
    "with open('./saved_models/hist_'+model_name+'.h5', 'wb') as file_pi:\n",
    "    pickle.dump(models_hist[model_name].history, file_pi)"
   ]
  },
  {
   "cell_type": "markdown",
   "metadata": {},
   "source": [
    "Let's plot the training and validation loss."
   ]
  },
  {
   "cell_type": "code",
   "execution_count": 14,
   "metadata": {},
   "outputs": [
    {
     "data": {
      "image/png": "[encoded data removed]",
      "text/plain": [
       "<matplotlib.figure.Figure at 0x7fa4f2bb10b8>"
      ]
     },
     "metadata": {},
     "output_type": "display_data"
    }
   ],
   "source": [
    "#Let's plot loss during training\n",
    "plt.close('all')\n",
    "\n",
    "for key in models_hist:\n",
    "    plt.plot(models_hist[key].history['loss'],label='Training loss')\n",
    "    plt.plot(models_hist[key].history['val_loss'],label='Validation loss')\n",
    "\n",
    "plt.legend()\n",
    "plt.xlabel('Epoch')\n",
    "plt.ylabel('loss')\n",
    "plt.show()"
   ]
  },
  {
   "cell_type": "markdown",
   "metadata": {},
   "source": [
    "## Part 3: Looking at the results\n",
    "\n",
    "### Tagger efficiency on QCD\n",
    "\n",
    "Here I choose a set of tagger operating thresholds and plot the efficiency of the tagger on QCD as a function of QCD jet mass."
   ]
  },
  {
   "cell_type": "code",
   "execution_count": 15,
   "metadata": {},
   "outputs": [
    {
     "data": {
      "image/png": "[encoded data removed]",
      "text/plain": [
       "<matplotlib.figure.Figure at 0x7fa4e6f125f8>"
      ]
     },
     "metadata": {},
     "output_type": "display_data"
    }
   ],
   "source": [
    "mymodel=models['jet_mass_1000_80_sixbody_notau12']\n",
    "bgpredicttable = [mymodel.predict(data[:,sixbody_without_tau12]) for data in bgdatabinned_test]\n",
    "\n",
    "thresholds = [0,0.2,0.55,0.8,0.89]\n",
    "binefficiencies = [\n",
    "    [np.count_nonzero(predictions > threshold)/len(predictions) for predictions in bgpredicttable]\n",
    "    for threshold in thresholds\n",
    "]\n",
    "bincutcounts = [\n",
    "    [np.count_nonzero(predictions > threshold) for predictions in bgpredicttable]\n",
    "    for threshold in thresholds\n",
    "]\n",
    "\n",
    "plt.close('all')\n",
    "colours=('k','C0','C1','C2','C3')\n",
    "for i in range(0,len(thresholds)):\n",
    "    plt.plot(bincenters,binefficiencies[i],color=colours[i])\n",
    "plt.semilogy()\n",
    "plt.xlim([0,400])\n",
    "plt.ylim([0.005,1.5])\n",
    "plt.xlabel('Jet Mass / GeV')\n",
    "plt.ylabel('Efficiency')\n",
    "plt.title('Efficiency at varying thresholds')\n",
    "plt.show()"
   ]
  },
  {
   "cell_type": "markdown",
   "metadata": {},
   "source": [
    "### Jet mass distributions after cutting QCD with the tagger\n",
    "\n",
    "Let's plot QCD jet mass distribution after tagging at various thresholds"
   ]
  },
  {
   "cell_type": "code",
   "execution_count": 16,
   "metadata": {
    "scrolled": false
   },
   "outputs": [
    {
     "data": {
      "image/png": "[encoded data removed]",
      "text/plain": [
       "<matplotlib.figure.Figure at 0x7fa4e6da66d8>"
      ]
     },
     "metadata": {},
     "output_type": "display_data"
    }
   ],
   "source": [
    "threshold_choices=[0,1,2,3]\n",
    "\n",
    "axislabelsize = 18\n",
    "\n",
    "plt.close('all')\n",
    "plt.figure(figsize=(15,4))\n",
    "\n",
    "colours=('k','C0','C1','C2','C3')\n",
    "\n",
    "yerr0 = np.multiply(np.divide(np.sqrt(np.add(np.array(bincontents),1)),binwidths),0.89)\n",
    "yerrs = np.divide(np.sqrt(np.add(np.array(bincutcounts),1)),binwidths)\n",
    "xerr = np.multiply(0.5,np.array(binwidths))\n",
    "\n",
    "plt.semilogy()\n",
    "plt.ylim(10,5e4)\n",
    "plt.xlim(35,300)\n",
    "plt.xlabel('Jet Mass / GeV')\n",
    "plt.ylabel('Number of events / GeV', size=axislabelsize)\n",
    "plt.title(r'$p_T > 1000$ GeV', size=axislabelsize)\n",
    "for i in range(0,len(threshold_choices)):\n",
    "    #yerr = np.sqrt(np.add(np.array(bincutcounts[i]),1))\n",
    "    plt.errorbar(bincenters,np.divide(bincutcounts[threshold_choices[i]],binwidths),\n",
    "                 xerr=xerr, yerr=yerrs[threshold_choices[i]],fmt='o',markersize=2,\n",
    "                 color=colours[i],label=thresholds[i])\n",
    "plt.legend(title='Threshold',ncol=2)\n",
    "plt.show()"
   ]
  },
  {
   "cell_type": "markdown",
   "metadata": {},
   "source": [
    "### Adding a signal\n",
    "\n",
    "First let's import and preprocess some signals to inject on top of the QCD background. We load:\n",
    "\n",
    "\n",
    "'no-mass-cut-data/R2200-M100-AA40_b.all.dat'\n",
    "\n",
    "p p > Z'(2.2 TeV) > Z H, Z > nu nu, H(100 GeV) > AA(40 GeV) > 4b\n",
    "\n",
    "\n",
    "'no-mass-cut-data/R2200-M200-WWhad.all.dat'\n",
    "\n",
    "p p > Z' > Z H, Z > nu nu, H(200 GeV) > WW > 4q."
   ]
  },
  {
   "cell_type": "code",
   "execution_count": 105,
   "metadata": {},
   "outputs": [],
   "source": [
    "#Lets import some signals to make a plot of the tagger acting on bg + signal\n",
    "\n",
    "signal100 = preprocessor.transform(np.loadtxt('no-mass-cut-data/R2200-M100-AA40_b.all.dat'))\n",
    "signal200 = preprocessor.transform(np.loadtxt('no-mass-cut-data/R2200-M200-WWhad.all.dat'))\n",
    "sig100predicttable = [mymodel.predict(data[:,sixbody_without_tau12]) if len(data) > 0 else np.array([0.])\n",
    "                      for data in signal100]\n",
    "sig200predicttable = [mymodel.predict(data[:,sixbody_without_tau12]) if len(data) > 0 else np.array([0.])\n",
    "                      for data in signal200]\n",
    "sigbincontents200 = [len(row) for row in signal200]\n",
    "sigbincontents100 = [len(row) for row in signal100]\n",
    "\n",
    "sig100binefficiencies = [\n",
    "    [np.count_nonzero(predictions > threshold)/len(predictions) for predictions in sig100predicttable]\n",
    "    for threshold in thresholds\n",
    "]\n",
    "sig100bincutcounts = [\n",
    "    [np.count_nonzero(predictions > threshold) for predictions in sig100predicttable]\n",
    "    for threshold in thresholds\n",
    "]\n",
    "sig100bincutdensities = np.divide(sig100bincutcounts,binwidths)\n",
    "\n",
    "sig200binefficiencies = [\n",
    "    [np.count_nonzero(predictions > threshold)/len(predictions) for predictions in sig200predicttable]\n",
    "    for threshold in thresholds\n",
    "]\n",
    "sig200bincutcounts = [\n",
    "    [np.count_nonzero(predictions > threshold) for predictions in sig200predicttable]\n",
    "    for threshold in thresholds\n",
    "]\n",
    "sig200bincutdensities = np.divide(sig200bincutcounts,binwidths)\n",
    "\n",
    "sigplusbgcut = [np.add(np.add(np.multiply(sig200bincutcounts[i],0.25),\n",
    "                       np.array(bincutcounts[i])),\n",
    "                       np.multiply(sig100bincutcounts[i],0.6))\n",
    "                for i in range(0,len(bincutcounts))]"
   ]
  },
  {
   "cell_type": "markdown",
   "metadata": {},
   "source": [
    "### Plot effect of tagger on QCD + signals"
   ]
  },
  {
   "cell_type": "code",
   "execution_count": 103,
   "metadata": {},
   "outputs": [
    {
     "data": {
      "image/png": "[encoded data removed]",
      "text/plain": [
       "<matplotlib.figure.Figure at 0x7f15f9776f28>"
      ]
     },
     "metadata": {},
     "output_type": "display_data"
    }
   ],
   "source": [
    "#Now lets plot that bitch!\n",
    "\n",
    "axislabelsize = 18\n",
    "\n",
    "plt.close('all')\n",
    "\n",
    "threshold_choices=[0,1,2,3]\n",
    "colours=['k','C0','C1','C2','C3']\n",
    "\n",
    "plt.figure(figsize=(15,4))\n",
    "\n",
    "\n",
    "yerr0 = np.multiply(np.divide(np.sqrt(np.add(np.array(bincontents),1)),binwidths),0.89)\n",
    "yerrs = np.divide(np.sqrt(np.add(np.array(bincutcounts),1)),binwidths)\n",
    "xerr = np.multiply(0.5,np.array(binwidths))\n",
    "\n",
    "axes2d[0].semilogy()\n",
    "axes2d[0].axvspan(65, 105, alpha=0.2, facecolor='gray')\n",
    "axes2d[0].set_ylim(10,3e4)\n",
    "axes2d[0].set_xlim(35,300)\n",
    "#plt.xlabel('Jet Mass / GeV')\n",
    "axes2d[0].set_ylabel('Number of events / GeV', size=axislabelsize)\n",
    "axes2d[0].set_title(r'$p_T > 1000$ GeV', size=axislabelsize)\n",
    "axes2d[0].errorbar(bincenters, np.multiply(bindensities,0.8), xerr=xerr, yerr=yerr0,fmt='o',markersize=2,color='k')\n",
    "for i in range(0,len(threshold_choices)):\n",
    "    #yerr = np.sqrt(np.add(np.array(bincutcounts[i]),1))\n",
    "    axes2d[0].errorbar(bincenters,np.divide(bincutcounts[threshold_choices[i]],binwidths),\n",
    "                 xerr=xerr, yerr=yerrs[threshold_choices[i]],fmt='o',markersize=2,color=colors[i])\n",
    "\n",
    "linewidth=1.2\n",
    "plt.semilogy()\n",
    "plt.ylim(10,3e4)\n",
    "plt.xlim(35,300)\n",
    "plt.axvspan(65, 105, alpha=0.2, facecolor='gray')\n",
    "plt.xlabel('Jet Mass / GeV', size=axislabelsize)\n",
    "plt.ylabel('Number of events / GeV', size=axislabelsize)\n",
    "#plt.title(r'$p_T > 500$ GeV')\n",
    "for i in range(0,len(threshold_choices)):\n",
    "    plt.step(binboundaries[:len(binboundaries)-1],\n",
    "            np.divide(bincutcounts[threshold_choices[i]],binwidths),\n",
    "            where='post',color=colours[i],linewidth=linewidth,label=thresholds[i])\n",
    "    \n",
    "for i in range(0,len(threshold_choices)):\n",
    "    plt.step(binboundaries[:len(binboundaries)-1],\n",
    "             np.divide(sigplusbgcut[threshold_choices[i]],binwidths),\n",
    "             where='post',color=colours[i],linestyle='--',linewidth=linewidth)\n",
    "plt.legend(title='Threshold',ncol=2)\n",
    "plt.title('Tagged jet mass distributions including injected signal')\n",
    "plt.show()"
   ]
  }
 ],
 "metadata": {
  "kernelspec": {
   "display_name": "Python 3",
   "language": "python",
   "name": "python3"
  },
  "language_info": {
   "codemirror_mode": {
    "name": "ipython",
    "version": 3
   },
   "file_extension": ".py",
   "mimetype": "text/x-python",
   "name": "python",
   "nbconvert_exporter": "python",
   "pygments_lexer": "ipython3",
   "version": "3.4.3"
  }
 },
 "nbformat": 4,
 "nbformat_minor": 2
}
